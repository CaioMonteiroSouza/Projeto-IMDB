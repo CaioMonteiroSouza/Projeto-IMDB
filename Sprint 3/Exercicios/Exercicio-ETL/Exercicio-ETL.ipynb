{
 "cells": [
  {
   "cell_type": "markdown",
   "id": "a2fd4c87-6030-4665-ac67-37253b868b4b",
   "metadata": {},
   "source": [
    "## Abro o arquivo que irei usar e armazeno ele em uma variavel\n",
    "utilizo o with para garantir que o arquivo sempre seja fechado"
   ]
  },
  {
   "cell_type": "code",
   "execution_count": 1,
   "id": "33f205d9-8fca-40e9-a786-7e2c85eea159",
   "metadata": {},
   "outputs": [],
   "source": [
    "lines = []\n",
    "with open('actors.csv', 'r') as data:\n",
    "    lines = data.readlines()"
   ]
  },
  {
   "cell_type": "markdown",
   "id": "54f0ff94-37ee-43eb-b526-a845ad980b99",
   "metadata": {},
   "source": [
    "## Altero o nome da linha 5 pois havia uma virgula que atrapalhava na hora de ler o numero de filmes"
   ]
  },
  {
   "cell_type": "code",
   "execution_count": 2,
   "id": "477d95ca-0f9b-4b76-8b9e-bb40c83ca542",
   "metadata": {},
   "outputs": [],
   "source": [
    "count = 0\n",
    "for x in lines:\n",
    "    linhas = x.strip().split(',')\n",
    "    if count == 5:\n",
    "        linhas[0] = 'Robert Downey JR'\n",
    "        del linhas[1]\n",
    "        lines[count] = ','.join(linhas)\n",
    "    count += 1"
   ]
  },
  {
   "cell_type": "markdown",
   "id": "fa02e117-4e76-4810-ba26-c4562d54d9d5",
   "metadata": {},
   "source": [
    "## procura o maior numero de filmes"
   ]
  },
  {
   "cell_type": "code",
   "execution_count": 3,
   "id": "ce2c930e-e987-413d-a6c2-441de841ebf3",
   "metadata": {},
   "outputs": [],
   "source": [
    "max = 0\n",
    "len = 0\n",
    "for x in lines[1:]:\n",
    "    linhas = x.strip().split(',')\n",
    "    if int(linhas[2]) > max:\n",
    "        max = int(linhas[2])\n",
    "    len += 1"
   ]
  },
  {
   "cell_type": "markdown",
   "id": "911333d7-c0c9-46f1-b7e1-8ae7203ef4b8",
   "metadata": {},
   "source": [
    "## prepara a string para ser escrita no arquivo"
   ]
  },
  {
   "cell_type": "code",
   "execution_count": 4,
   "id": "c77ce4c3-842e-45f7-9b31-dd2f8ecfe86f",
   "metadata": {},
   "outputs": [],
   "source": [
    "for x in lines[1:]:\n",
    "    linhas = x.strip().split(',')\n",
    "    if int(linhas[2]) == max:\n",
    "        maior_filmes = f'O ator com maior numero de filmes foi: {linhas[0]} com um total de {max} filmes'"
   ]
  },
  {
   "cell_type": "markdown",
   "id": "6336618a-cb99-4960-8fde-c712ff0c88fe",
   "metadata": {},
   "source": [
    "## escreve a string no arquivo mas sobrepõe o que estava escrito antes "
   ]
  },
  {
   "cell_type": "code",
   "execution_count": 5,
   "id": "30f39a7d-d095-4465-bb91-0974e0bd9b6b",
   "metadata": {},
   "outputs": [],
   "source": [
    "with open(\"etapa-1.txt\", \"w\") as etapa_1:\n",
    "    etapa_1.write(maior_filmes)"
   ]
  },
  {
   "cell_type": "markdown",
   "id": "1988de94-e80e-4ad0-844b-3807ee689406",
   "metadata": {},
   "source": [
    "## soma todos os valores de Gross e divide pela quantidade de linhas"
   ]
  },
  {
   "cell_type": "code",
   "execution_count": 6,
   "id": "d127ffd5-a639-4f4c-b750-e810f31f4d23",
   "metadata": {},
   "outputs": [],
   "source": [
    "sum = 0\n",
    "for x in lines[1:]:\n",
    "    linhas = x.strip().split(',')\n",
    "    sum += float(linhas[5])\n",
    "\n",
    "media = sum / len\n",
    "media = round(media, 3)"
   ]
  },
  {
   "cell_type": "markdown",
   "id": "50cb1470-ecd9-46df-9c13-49bddbf7bcb6",
   "metadata": {},
   "source": [
    "## escreve a string no arquivo mas sobrepõe o que estava escrito antes "
   ]
  },
  {
   "cell_type": "code",
   "execution_count": 7,
   "id": "5f9b472d-3046-41ed-8d08-02045563c615",
   "metadata": {},
   "outputs": [],
   "source": [
    "with open(\"etapa-2.txt\", \"w\") as etapa_2:\n",
    "    etapa_2.write(f'A média de receita de bilheteria bruta dos principais filmes é: {media}')"
   ]
  },
  {
   "cell_type": "markdown",
   "id": "89632483-ecf6-4fdb-905e-691e679fa771",
   "metadata": {},
   "source": [
    "## Calcula o ator com maior media de bilheteria por filme"
   ]
  },
  {
   "cell_type": "code",
   "execution_count": 8,
   "id": "5ce5c086-ee17-4773-bbb0-5eeca3e7f3d0",
   "metadata": {},
   "outputs": [],
   "source": [
    "max_media = 0\n",
    "nome_ator_max = ''\n",
    "len = 0\n",
    "for x in lines[1:]:\n",
    "    linhas = x.strip().split(',')\n",
    "    nome_ator = linhas[0]\n",
    "    media_bilheteria_ator = float(linhas[1]) / float(linhas[2])\n",
    "    if media_bilheteria_ator > max_media:\n",
    "        max_media = media_bilheteria_ator\n",
    "        nome_ator_max = nome_ator"
   ]
  },
  {
   "cell_type": "markdown",
   "id": "b3743841-7344-4a72-821b-091eb1c4b7f1",
   "metadata": {},
   "source": [
    "## escreve a string no arquivo mas sobrepõe o que estava escrito antes "
   ]
  },
  {
   "cell_type": "code",
   "execution_count": 9,
   "id": "c668da8f-0dbc-4e61-90ff-c00f5dea44cc",
   "metadata": {},
   "outputs": [],
   "source": [
    "with open(\"etapa-3.txt\", \"w\") as etapa_3:\n",
    "    etapa_3.write(f'O ator com maior media de bilheteria por filme foi {nome_ator_max} com uma media de: {round(max_media, 2)}')"
   ]
  },
  {
   "cell_type": "markdown",
   "id": "ba454e6a-011a-4768-9fe9-39375a22f8d3",
   "metadata": {},
   "source": [
    "## adiciona o filme mais a quantidade de vezes que ele aparece no dicioinario e os ordena no final"
   ]
  },
  {
   "cell_type": "code",
   "execution_count": 10,
   "id": "27804822-9af5-4cdb-901e-dac253e51041",
   "metadata": {},
   "outputs": [],
   "source": [
    "filmes = {}\n",
    "filme_procurado = ''\n",
    "\n",
    "for x in lines[1:]:\n",
    "    linhas =  x.strip().split(',')\n",
    "    filme_procurado = linhas[4]\n",
    "    if filme_procurado in filmes:\n",
    "        filmes[filme_procurado] += 1\n",
    "    else:\n",
    "        filmes[filme_procurado] = 1\n",
    "            \n",
    "\n",
    "filmes = sorted(filmes.items(), key=lambda x: (-x[1], x[0]))"
   ]
  },
  {
   "cell_type": "markdown",
   "id": "e4396f4a-d716-4c5a-99ba-7764c6beb5de",
   "metadata": {},
   "source": [
    "## escreve a string no arquivo mas sobrepõe o que estava escrito antes\n",
    "um loop é usado dentro do with para que possa ser escrito atualizando os valores e quebrando linhas"
   ]
  },
  {
   "cell_type": "code",
   "execution_count": 11,
   "id": "58520a3f-7d1e-42f1-b9ee-dce419c84850",
   "metadata": {},
   "outputs": [],
   "source": [
    "with open(\"etapa-4.txt\", \"w\") as etapa_4:\n",
    "    count = 1\n",
    "    for filme, quantidade in filmes:\n",
    "        etapa_4.write(f'{count} - O filme {filme} aparece {quantidade} vez(es) no dataset \\n')\n",
    "        count += 1"
   ]
  },
  {
   "cell_type": "markdown",
   "id": "f0d453e6-b1c7-41e0-a691-070a3b2c4a3e",
   "metadata": {},
   "source": [
    "## adiciona o nome do autor mais a receita total bruta no dicionario e os ordena"
   ]
  },
  {
   "cell_type": "code",
   "execution_count": 12,
   "id": "084b1afe-449c-484e-8462-e159824c5e5b",
   "metadata": {},
   "outputs": [],
   "source": [
    "atores_receitas = {}\n",
    "\n",
    "for x in lines[1:]:\n",
    "    linhas =  x.strip().split(',')\n",
    "    nome_autor_receita = linhas[0]\n",
    "    atores_receitas[nome_autor_receita] = float(linhas[1])\n",
    "\n",
    "atores_receitas = sorted(atores_receitas.items(), key=lambda x: (-x[1]))"
   ]
  },
  {
   "cell_type": "markdown",
   "id": "f7e9de08-7ebd-45f4-9cf0-8abe5172c559",
   "metadata": {},
   "source": [
    "## escreve a string no arquivo mas sobrepõe o que estava escrito antes\n",
    "um loop é usado dentro do with para que possa ser escrito atualizando os valores e quebrando linhas"
   ]
  },
  {
   "cell_type": "code",
   "execution_count": 13,
   "id": "ffd59a02-1e89-4ac5-889e-5766d86f7fb9",
   "metadata": {},
   "outputs": [],
   "source": [
    "with open(\"etapa-5.txt\", \"w\") as etapa_5:\n",
    "    for nome_do_autor, receita_total_bruta in atores_receitas:\n",
    "        etapa_5.write(f'{nome_do_autor} - {receita_total_bruta}\\n')"
   ]
  }
 ],
 "metadata": {
  "kernelspec": {
   "display_name": "Python 3 (ipykernel)",
   "language": "python",
   "name": "python3"
  },
  "language_info": {
   "codemirror_mode": {
    "name": "ipython",
    "version": 3
   },
   "file_extension": ".py",
   "mimetype": "text/x-python",
   "name": "python",
   "nbconvert_exporter": "python",
   "pygments_lexer": "ipython3",
   "version": "3.11.9"
  }
 },
 "nbformat": 4,
 "nbformat_minor": 5
}
